{
 "cells": [
  {
   "cell_type": "markdown",
   "id": "02db41d8-d19f-43a9-b931-ee9ca1893304",
   "metadata": {},
   "source": [
    "This notebook is used to split the downloaded screenshots from notebook1 into train and val folders for further processing for calculating ad effectiveness and the modeling in Kaggle."
   ]
  },
  {
   "cell_type": "code",
   "execution_count": 1,
   "id": "59f84831-0e62-4ea7-b36a-ec39f2d78668",
   "metadata": {},
   "outputs": [],
   "source": [
    "import os\n",
    "import shutil\n",
    "import json\n",
    "from PIL import Image\n",
    "from sklearn.model_selection import train_test_split"
   ]
  },
  {
   "cell_type": "code",
   "execution_count": null,
   "id": "d41497ed-3094-4cc8-aab7-afb4f549e7af",
   "metadata": {},
   "outputs": [],
   "source": [
    "# Define directories\n",
    "images_dir = \"../data/raw_data/screenshots\"\n",
    "labels_dir = \"../data/raw_data/labels\"\n",
    "\n",
    "# Create new directories for the split dataset\n",
    "train_images_dir = \"../data/finalized_data/images/train\"\n",
    "val_images_dir = \"../data/finalized_data/images/val\"\n",
    "train_labels_dir = \"../data/finalized_data/labels/train\"\n",
    "val_labels_dir = \"../data/finalized_data/labels/val\"\n",
    "\n",
    "os.makedirs(train_images_dir, exist_ok=True)\n",
    "os.makedirs(val_images_dir, exist_ok=True)\n",
    "os.makedirs(train_labels_dir, exist_ok=True)\n",
    "os.makedirs(val_labels_dir, exist_ok=True)"
   ]
  },
  {
   "cell_type": "code",
   "execution_count": null,
   "id": "8c3ae5a0-15bc-4bea-b10e-9e5448562b12",
   "metadata": {},
   "outputs": [],
   "source": [
    "# Get list of images and corresponding labels, ensuring both exist\n",
    "images = [f for f in os.listdir(images_dir) if f.endswith('.png') and os.path.exists(os.path.join(labels_dir, f.replace('.png', '.txt')))]\n",
    "labels = [f.replace('.png', '.txt') for f in images]  # Generate corresponding label file names\n",
    "\n",
    "# Split the dataset into training and validation (80-20 split)\n",
    "train_images, val_images = train_test_split(images, test_size=0.2, random_state=42)\n",
    "\n",
    "# Move training and validation images and labels to the appropriate folders\n",
    "for image in train_images:\n",
    "    shutil.copy(os.path.join(images_dir, image), train_images_dir)\n",
    "    shutil.copy(os.path.join(labels_dir, image.replace('.png', '.txt')), train_labels_dir)\n",
    "\n",
    "for image in val_images:\n",
    "    shutil.copy(os.path.join(images_dir, image), val_images_dir)\n",
    "    shutil.copy(os.path.join(labels_dir, image.replace('.png', '.txt')), val_labels_dir)\n",
    "\n",
    "print(f\"Train-test split completed. {len(train_images)} images in training, {len(val_images)} images in validation.\")"
   ]
  }
 ],
 "metadata": {
  "kernelspec": {
   "display_name": "Python 3 (ipykernel)",
   "language": "python",
   "name": "python3"
  },
  "language_info": {
   "codemirror_mode": {
    "name": "ipython",
    "version": 3
   },
   "file_extension": ".py",
   "mimetype": "text/x-python",
   "name": "python",
   "nbconvert_exporter": "python",
   "pygments_lexer": "ipython3",
   "version": "3.9.15"
  }
 },
 "nbformat": 4,
 "nbformat_minor": 5
}
